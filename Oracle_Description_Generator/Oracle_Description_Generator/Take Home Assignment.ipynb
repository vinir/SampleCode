{
 "cells": [
  {
   "cell_type": "code",
   "execution_count": 37,
   "id": "1663ce8b",
   "metadata": {},
   "outputs": [
    {
     "name": "stdout",
     "output_type": "stream",
     "text": [
      "CPU times: total: 0 ns\n",
      "Wall time: 0 ns\n"
     ]
    }
   ],
   "source": [
    "%%time\n",
    "import pandas as pd\n",
    "import numpy as np\n",
    "import seaborn as sns\n",
    "import matplotlib.pyplot as plt\n",
    "from sklearn.preprocessing import LabelEncoder, OneHotEncoder\n",
    "from sklearn.ensemble import RandomForestClassifier\n",
    "from sklearn.neighbors import KNeighborsClassifier\n",
    "from sklearn.tree import DecisionTreeClassifier, plot_tree\n",
    "from sklearn.linear_model import LogisticRegression\n",
    "from sklearn.preprocessing import MinMaxScaler, StandardScaler\n",
    "from sklearn.metrics import accuracy_score, precision_score, recall_score, f1_score, classification_report, confusion_matrix,roc_auc_score,roc_curve, r2_score, mean_squared_error\n",
    "from sklearn.model_selection import GridSearchCV, RandomizedSearchCV\n",
    "from sklearn.model_selection import train_test_split\n",
    "import warnings\n",
    "warnings.filterwarnings('ignore') "
   ]
  },
  {
   "cell_type": "code",
   "execution_count": 38,
   "id": "b85186f5",
   "metadata": {
    "scrolled": false
   },
   "outputs": [
    {
     "data": {
      "text/html": [
       "<div>\n",
       "<style scoped>\n",
       "    .dataframe tbody tr th:only-of-type {\n",
       "        vertical-align: middle;\n",
       "    }\n",
       "\n",
       "    .dataframe tbody tr th {\n",
       "        vertical-align: top;\n",
       "    }\n",
       "\n",
       "    .dataframe thead th {\n",
       "        text-align: right;\n",
       "    }\n",
       "</style>\n",
       "<table border=\"1\" class=\"dataframe\">\n",
       "  <thead>\n",
       "    <tr style=\"text-align: right;\">\n",
       "      <th></th>\n",
       "      <th>customer_id</th>\n",
       "      <th>age</th>\n",
       "      <th>gender</th>\n",
       "      <th>monthly_charges</th>\n",
       "      <th>total_charges</th>\n",
       "      <th>tenure</th>\n",
       "      <th>contract_type</th>\n",
       "      <th>payment_method</th>\n",
       "      <th>churn</th>\n",
       "    </tr>\n",
       "  </thead>\n",
       "  <tbody>\n",
       "    <tr>\n",
       "      <th>0</th>\n",
       "      <td>1</td>\n",
       "      <td>32</td>\n",
       "      <td>Male</td>\n",
       "      <td>65.5</td>\n",
       "      <td>195.5</td>\n",
       "      <td>3</td>\n",
       "      <td>Month-to-month</td>\n",
       "      <td>Credit Card</td>\n",
       "      <td>Yes</td>\n",
       "    </tr>\n",
       "    <tr>\n",
       "      <th>1</th>\n",
       "      <td>2</td>\n",
       "      <td>45</td>\n",
       "      <td>Female</td>\n",
       "      <td>89.9</td>\n",
       "      <td>2465.8</td>\n",
       "      <td>24</td>\n",
       "      <td>Two-year</td>\n",
       "      <td>Bank Transfer</td>\n",
       "      <td>No</td>\n",
       "    </tr>\n",
       "    <tr>\n",
       "      <th>2</th>\n",
       "      <td>3</td>\n",
       "      <td>28</td>\n",
       "      <td>Male</td>\n",
       "      <td>75.1</td>\n",
       "      <td>321.7</td>\n",
       "      <td>7</td>\n",
       "      <td>Month-to-month</td>\n",
       "      <td>Credit Card</td>\n",
       "      <td>Yes</td>\n",
       "    </tr>\n",
       "    <tr>\n",
       "      <th>3</th>\n",
       "      <td>4</td>\n",
       "      <td>55</td>\n",
       "      <td>Female</td>\n",
       "      <td>98.2</td>\n",
       "      <td>4316.6</td>\n",
       "      <td>48</td>\n",
       "      <td>Two-year</td>\n",
       "      <td>Bank Transfer</td>\n",
       "      <td>No</td>\n",
       "    </tr>\n",
       "    <tr>\n",
       "      <th>4</th>\n",
       "      <td>5</td>\n",
       "      <td>42</td>\n",
       "      <td>Female</td>\n",
       "      <td>79.9</td>\n",
       "      <td>2020.5</td>\n",
       "      <td>18</td>\n",
       "      <td>One year</td>\n",
       "      <td>Credit Card</td>\n",
       "      <td>No</td>\n",
       "    </tr>\n",
       "    <tr>\n",
       "      <th>5</th>\n",
       "      <td>6</td>\n",
       "      <td>38</td>\n",
       "      <td>Male</td>\n",
       "      <td>61.4</td>\n",
       "      <td>349.6</td>\n",
       "      <td>6</td>\n",
       "      <td>Month-to-month</td>\n",
       "      <td>Electronic</td>\n",
       "      <td>Yes</td>\n",
       "    </tr>\n",
       "    <tr>\n",
       "      <th>6</th>\n",
       "      <td>7</td>\n",
       "      <td>50</td>\n",
       "      <td>Male</td>\n",
       "      <td>94.8</td>\n",
       "      <td>5748.9</td>\n",
       "      <td>60</td>\n",
       "      <td>Two-year</td>\n",
       "      <td>Bank Transfer</td>\n",
       "      <td>No</td>\n",
       "    </tr>\n",
       "    <tr>\n",
       "      <th>7</th>\n",
       "      <td>8</td>\n",
       "      <td>29</td>\n",
       "      <td>Female</td>\n",
       "      <td>72.5</td>\n",
       "      <td>785.1</td>\n",
       "      <td>11</td>\n",
       "      <td>One year</td>\n",
       "      <td>Credit Card</td>\n",
       "      <td>Yes</td>\n",
       "    </tr>\n",
       "    <tr>\n",
       "      <th>8</th>\n",
       "      <td>9</td>\n",
       "      <td>36</td>\n",
       "      <td>Female</td>\n",
       "      <td>83.7</td>\n",
       "      <td>1456.2</td>\n",
       "      <td>22</td>\n",
       "      <td>One year</td>\n",
       "      <td>Electronic</td>\n",
       "      <td>No</td>\n",
       "    </tr>\n",
       "    <tr>\n",
       "      <th>9</th>\n",
       "      <td>10</td>\n",
       "      <td>44</td>\n",
       "      <td>Male</td>\n",
       "      <td>78.1</td>\n",
       "      <td>624.3</td>\n",
       "      <td>9</td>\n",
       "      <td>Month-to-month</td>\n",
       "      <td>Bank Transfer</td>\n",
       "      <td>Yes</td>\n",
       "    </tr>\n",
       "    <tr>\n",
       "      <th>10</th>\n",
       "      <td>11</td>\n",
       "      <td>60</td>\n",
       "      <td>Male</td>\n",
       "      <td>104.3</td>\n",
       "      <td>6281.9</td>\n",
       "      <td>60</td>\n",
       "      <td>Two-year</td>\n",
       "      <td>Credit Card</td>\n",
       "      <td>No</td>\n",
       "    </tr>\n",
       "    <tr>\n",
       "      <th>11</th>\n",
       "      <td>12</td>\n",
       "      <td>48</td>\n",
       "      <td>Female</td>\n",
       "      <td>87.6</td>\n",
       "      <td>4196.4</td>\n",
       "      <td>45</td>\n",
       "      <td>Two-year</td>\n",
       "      <td>Bank Transfer</td>\n",
       "      <td>No</td>\n",
       "    </tr>\n",
       "    <tr>\n",
       "      <th>12</th>\n",
       "      <td>13</td>\n",
       "      <td>35</td>\n",
       "      <td>Male</td>\n",
       "      <td>76.2</td>\n",
       "      <td>167.3</td>\n",
       "      <td>2</td>\n",
       "      <td>Month-to-month</td>\n",
       "      <td>Electronic</td>\n",
       "      <td>Yes</td>\n",
       "    </tr>\n",
       "    <tr>\n",
       "      <th>13</th>\n",
       "      <td>14</td>\n",
       "      <td>27</td>\n",
       "      <td>Female</td>\n",
       "      <td>68.5</td>\n",
       "      <td>789.5</td>\n",
       "      <td>12</td>\n",
       "      <td>One year</td>\n",
       "      <td>Credit Card</td>\n",
       "      <td>No</td>\n",
       "    </tr>\n",
       "    <tr>\n",
       "      <th>14</th>\n",
       "      <td>15</td>\n",
       "      <td>51</td>\n",
       "      <td>Male</td>\n",
       "      <td>92.7</td>\n",
       "      <td>3245.7</td>\n",
       "      <td>36</td>\n",
       "      <td>Two-year</td>\n",
       "      <td>Bank Transfer</td>\n",
       "      <td>No</td>\n",
       "    </tr>\n",
       "    <tr>\n",
       "      <th>15</th>\n",
       "      <td>16</td>\n",
       "      <td>33</td>\n",
       "      <td>Female</td>\n",
       "      <td>79.1</td>\n",
       "      <td>983.1</td>\n",
       "      <td>13</td>\n",
       "      <td>One year</td>\n",
       "      <td>Electronic</td>\n",
       "      <td>Yes</td>\n",
       "    </tr>\n",
       "    <tr>\n",
       "      <th>16</th>\n",
       "      <td>17</td>\n",
       "      <td>39</td>\n",
       "      <td>Male</td>\n",
       "      <td>62.9</td>\n",
       "      <td>589.6</td>\n",
       "      <td>8</td>\n",
       "      <td>Month-to-month</td>\n",
       "      <td>Credit Card</td>\n",
       "      <td>Yes</td>\n",
       "    </tr>\n",
       "    <tr>\n",
       "      <th>17</th>\n",
       "      <td>18</td>\n",
       "      <td>47</td>\n",
       "      <td>Male</td>\n",
       "      <td>91.3</td>\n",
       "      <td>4321.8</td>\n",
       "      <td>50</td>\n",
       "      <td>Two-year</td>\n",
       "      <td>Bank Transfer</td>\n",
       "      <td>No</td>\n",
       "    </tr>\n",
       "    <tr>\n",
       "      <th>18</th>\n",
       "      <td>19</td>\n",
       "      <td>31</td>\n",
       "      <td>Female</td>\n",
       "      <td>72.8</td>\n",
       "      <td>548.2</td>\n",
       "      <td>7</td>\n",
       "      <td>Month-to-month</td>\n",
       "      <td>Electronic</td>\n",
       "      <td>Yes</td>\n",
       "    </tr>\n",
       "    <tr>\n",
       "      <th>19</th>\n",
       "      <td>20</td>\n",
       "      <td>43</td>\n",
       "      <td>Female</td>\n",
       "      <td>85.4</td>\n",
       "      <td>2345.6</td>\n",
       "      <td>32</td>\n",
       "      <td>One year</td>\n",
       "      <td>Credit Card</td>\n",
       "      <td>No</td>\n",
       "    </tr>\n",
       "  </tbody>\n",
       "</table>\n",
       "</div>"
      ],
      "text/plain": [
       "    customer_id    age    gender    monthly_charges    total_charges   \\\n",
       "0              1     32   Male                  65.5            195.5   \n",
       "1              2     45   Female                89.9           2465.8   \n",
       "2              3     28   Male                  75.1            321.7   \n",
       "3              4     55   Female                98.2           4316.6   \n",
       "4              5     42   Female                79.9           2020.5   \n",
       "5              6     38   Male                  61.4            349.6   \n",
       "6              7     50   Male                  94.8           5748.9   \n",
       "7              8     29   Female                72.5            785.1   \n",
       "8              9     36   Female                83.7           1456.2   \n",
       "9             10     44   Male                  78.1            624.3   \n",
       "10            11     60   Male                 104.3           6281.9   \n",
       "11            12     48   Female                87.6           4196.4   \n",
       "12            13     35   Male                  76.2            167.3   \n",
       "13            14     27   Female                68.5            789.5   \n",
       "14            15     51   Male                  92.7           3245.7   \n",
       "15            16     33   Female                79.1            983.1   \n",
       "16            17     39   Male                  62.9            589.6   \n",
       "17            18     47   Male                  91.3           4321.8   \n",
       "18            19     31   Female                72.8            548.2   \n",
       "19            20     43   Female                85.4           2345.6   \n",
       "\n",
       "     tenure    contract_type      payment_method   churn  \n",
       "0          3   Month-to-month     Credit Card        Yes  \n",
       "1         24   Two-year           Bank Transfer       No  \n",
       "2          7   Month-to-month     Credit Card        Yes  \n",
       "3         48   Two-year           Bank Transfer       No  \n",
       "4         18   One year           Credit Card         No  \n",
       "5          6   Month-to-month     Electronic         Yes  \n",
       "6         60   Two-year           Bank Transfer       No  \n",
       "7         11   One year           Credit Card        Yes  \n",
       "8         22   One year           Electronic          No  \n",
       "9          9   Month-to-month     Bank Transfer      Yes  \n",
       "10        60   Two-year           Credit Card         No  \n",
       "11        45   Two-year           Bank Transfer       No  \n",
       "12         2   Month-to-month     Electronic         Yes  \n",
       "13        12   One year           Credit Card         No  \n",
       "14        36   Two-year           Bank Transfer       No  \n",
       "15        13   One year           Electronic         Yes  \n",
       "16         8   Month-to-month     Credit Card        Yes  \n",
       "17        50   Two-year           Bank Transfer       No  \n",
       "18         7   Month-to-month     Electronic         Yes  \n",
       "19        32   One year           Credit Card         No  "
      ]
     },
     "execution_count": 38,
     "metadata": {},
     "output_type": "execute_result"
    }
   ],
   "source": [
    "df=pd.read_csv('Book1.csv')\n",
    "df"
   ]
  },
  {
   "cell_type": "markdown",
   "id": "8f80637b",
   "metadata": {},
   "source": [
    "## Exploratory data Analysis"
   ]
  },
  {
   "cell_type": "code",
   "execution_count": 39,
   "id": "4ed2b7c9",
   "metadata": {},
   "outputs": [],
   "source": [
    "# Remove spaces from column names\n",
    "df = df.rename(columns=lambda x: x.replace(' ', ''))\n"
   ]
  },
  {
   "cell_type": "code",
   "execution_count": 40,
   "id": "ec9bfbeb",
   "metadata": {
    "scrolled": false
   },
   "outputs": [
    {
     "name": "stdout",
     "output_type": "stream",
     "text": [
      "<class 'pandas.core.frame.DataFrame'>\n",
      "RangeIndex: 20 entries, 0 to 19\n",
      "Data columns (total 9 columns):\n",
      " #   Column           Non-Null Count  Dtype  \n",
      "---  ------           --------------  -----  \n",
      " 0   customer_id      20 non-null     int64  \n",
      " 1   age              20 non-null     int64  \n",
      " 2   gender           20 non-null     object \n",
      " 3   monthly_charges  20 non-null     float64\n",
      " 4   total_charges    20 non-null     float64\n",
      " 5   tenure           20 non-null     int64  \n",
      " 6   contract_type    20 non-null     object \n",
      " 7   payment_method   20 non-null     object \n",
      " 8   churn            20 non-null     object \n",
      "dtypes: float64(2), int64(3), object(4)\n",
      "memory usage: 1.5+ KB\n"
     ]
    }
   ],
   "source": [
    "df.info() # Check Null and Dtypes"
   ]
  },
  {
   "cell_type": "code",
   "execution_count": 41,
   "id": "4fbab91f",
   "metadata": {},
   "outputs": [
    {
     "data": {
      "text/html": [
       "<div>\n",
       "<style scoped>\n",
       "    .dataframe tbody tr th:only-of-type {\n",
       "        vertical-align: middle;\n",
       "    }\n",
       "\n",
       "    .dataframe tbody tr th {\n",
       "        vertical-align: top;\n",
       "    }\n",
       "\n",
       "    .dataframe thead th {\n",
       "        text-align: right;\n",
       "    }\n",
       "</style>\n",
       "<table border=\"1\" class=\"dataframe\">\n",
       "  <thead>\n",
       "    <tr style=\"text-align: right;\">\n",
       "      <th></th>\n",
       "      <th>customer_id</th>\n",
       "      <th>age</th>\n",
       "      <th>monthly_charges</th>\n",
       "      <th>total_charges</th>\n",
       "      <th>tenure</th>\n",
       "    </tr>\n",
       "  </thead>\n",
       "  <tbody>\n",
       "    <tr>\n",
       "      <th>count</th>\n",
       "      <td>20.00000</td>\n",
       "      <td>20.000000</td>\n",
       "      <td>20.000000</td>\n",
       "      <td>20.0000</td>\n",
       "      <td>20.000000</td>\n",
       "    </tr>\n",
       "    <tr>\n",
       "      <th>mean</th>\n",
       "      <td>10.50000</td>\n",
       "      <td>40.650000</td>\n",
       "      <td>80.995000</td>\n",
       "      <td>2087.6650</td>\n",
       "      <td>23.650000</td>\n",
       "    </tr>\n",
       "    <tr>\n",
       "      <th>std</th>\n",
       "      <td>5.91608</td>\n",
       "      <td>9.399188</td>\n",
       "      <td>12.009666</td>\n",
       "      <td>1948.2988</td>\n",
       "      <td>19.564401</td>\n",
       "    </tr>\n",
       "    <tr>\n",
       "      <th>min</th>\n",
       "      <td>1.00000</td>\n",
       "      <td>27.000000</td>\n",
       "      <td>61.400000</td>\n",
       "      <td>167.3000</td>\n",
       "      <td>2.000000</td>\n",
       "    </tr>\n",
       "    <tr>\n",
       "      <th>25%</th>\n",
       "      <td>5.75000</td>\n",
       "      <td>32.750000</td>\n",
       "      <td>72.725000</td>\n",
       "      <td>579.2500</td>\n",
       "      <td>7.750000</td>\n",
       "    </tr>\n",
       "    <tr>\n",
       "      <th>50%</th>\n",
       "      <td>10.50000</td>\n",
       "      <td>40.500000</td>\n",
       "      <td>79.500000</td>\n",
       "      <td>1219.6500</td>\n",
       "      <td>15.500000</td>\n",
       "    </tr>\n",
       "    <tr>\n",
       "      <th>75%</th>\n",
       "      <td>15.25000</td>\n",
       "      <td>47.250000</td>\n",
       "      <td>90.250000</td>\n",
       "      <td>3483.3750</td>\n",
       "      <td>38.250000</td>\n",
       "    </tr>\n",
       "    <tr>\n",
       "      <th>max</th>\n",
       "      <td>20.00000</td>\n",
       "      <td>60.000000</td>\n",
       "      <td>104.300000</td>\n",
       "      <td>6281.9000</td>\n",
       "      <td>60.000000</td>\n",
       "    </tr>\n",
       "  </tbody>\n",
       "</table>\n",
       "</div>"
      ],
      "text/plain": [
       "       customer_id        age  monthly_charges  total_charges     tenure\n",
       "count     20.00000  20.000000        20.000000        20.0000  20.000000\n",
       "mean      10.50000  40.650000        80.995000      2087.6650  23.650000\n",
       "std        5.91608   9.399188        12.009666      1948.2988  19.564401\n",
       "min        1.00000  27.000000        61.400000       167.3000   2.000000\n",
       "25%        5.75000  32.750000        72.725000       579.2500   7.750000\n",
       "50%       10.50000  40.500000        79.500000      1219.6500  15.500000\n",
       "75%       15.25000  47.250000        90.250000      3483.3750  38.250000\n",
       "max       20.00000  60.000000       104.300000      6281.9000  60.000000"
      ]
     },
     "execution_count": 41,
     "metadata": {},
     "output_type": "execute_result"
    }
   ],
   "source": [
    "df.describe() # display summary statistics for a dataframe"
   ]
  },
  {
   "cell_type": "code",
   "execution_count": 42,
   "id": "9e97c670",
   "metadata": {
    "scrolled": true
   },
   "outputs": [
    {
     "data": {
      "text/plain": [
       "customer_id        False\n",
       "age                False\n",
       "gender             False\n",
       "monthly_charges    False\n",
       "total_charges      False\n",
       "tenure             False\n",
       "contract_type      False\n",
       "payment_method     False\n",
       "churn              False\n",
       "dtype: bool"
      ]
     },
     "execution_count": 42,
     "metadata": {},
     "output_type": "execute_result"
    }
   ],
   "source": [
    "df.isna().any() # display null values "
   ]
  },
  {
   "cell_type": "code",
   "execution_count": 43,
   "id": "5f56559c",
   "metadata": {},
   "outputs": [
    {
     "data": {
      "text/plain": [
       "(20, 9)"
      ]
     },
     "execution_count": 43,
     "metadata": {},
     "output_type": "execute_result"
    }
   ],
   "source": [
    "df.shape  # display the size of row and column"
   ]
  },
  {
   "cell_type": "code",
   "execution_count": 44,
   "id": "24f86c35",
   "metadata": {
    "scrolled": true
   },
   "outputs": [
    {
     "data": {
      "text/html": [
       "<div>\n",
       "<style scoped>\n",
       "    .dataframe tbody tr th:only-of-type {\n",
       "        vertical-align: middle;\n",
       "    }\n",
       "\n",
       "    .dataframe tbody tr th {\n",
       "        vertical-align: top;\n",
       "    }\n",
       "\n",
       "    .dataframe thead th {\n",
       "        text-align: right;\n",
       "    }\n",
       "</style>\n",
       "<table border=\"1\" class=\"dataframe\">\n",
       "  <thead>\n",
       "    <tr style=\"text-align: right;\">\n",
       "      <th></th>\n",
       "      <th>customer_id</th>\n",
       "      <th>age</th>\n",
       "      <th>gender</th>\n",
       "      <th>monthly_charges</th>\n",
       "      <th>total_charges</th>\n",
       "      <th>tenure</th>\n",
       "      <th>contract_type</th>\n",
       "      <th>payment_method</th>\n",
       "      <th>churn</th>\n",
       "    </tr>\n",
       "  </thead>\n",
       "  <tbody>\n",
       "    <tr>\n",
       "      <th>0</th>\n",
       "      <td>1</td>\n",
       "      <td>32</td>\n",
       "      <td>Male</td>\n",
       "      <td>65.5</td>\n",
       "      <td>195.5</td>\n",
       "      <td>3</td>\n",
       "      <td>Month-to-month</td>\n",
       "      <td>Credit Card</td>\n",
       "      <td>Yes</td>\n",
       "    </tr>\n",
       "    <tr>\n",
       "      <th>1</th>\n",
       "      <td>2</td>\n",
       "      <td>45</td>\n",
       "      <td>Female</td>\n",
       "      <td>89.9</td>\n",
       "      <td>2465.8</td>\n",
       "      <td>24</td>\n",
       "      <td>Two-year</td>\n",
       "      <td>Bank Transfer</td>\n",
       "      <td>No</td>\n",
       "    </tr>\n",
       "    <tr>\n",
       "      <th>2</th>\n",
       "      <td>3</td>\n",
       "      <td>28</td>\n",
       "      <td>Male</td>\n",
       "      <td>75.1</td>\n",
       "      <td>321.7</td>\n",
       "      <td>7</td>\n",
       "      <td>Month-to-month</td>\n",
       "      <td>Credit Card</td>\n",
       "      <td>Yes</td>\n",
       "    </tr>\n",
       "    <tr>\n",
       "      <th>3</th>\n",
       "      <td>4</td>\n",
       "      <td>55</td>\n",
       "      <td>Female</td>\n",
       "      <td>98.2</td>\n",
       "      <td>4316.6</td>\n",
       "      <td>48</td>\n",
       "      <td>Two-year</td>\n",
       "      <td>Bank Transfer</td>\n",
       "      <td>No</td>\n",
       "    </tr>\n",
       "    <tr>\n",
       "      <th>4</th>\n",
       "      <td>5</td>\n",
       "      <td>42</td>\n",
       "      <td>Female</td>\n",
       "      <td>79.9</td>\n",
       "      <td>2020.5</td>\n",
       "      <td>18</td>\n",
       "      <td>One year</td>\n",
       "      <td>Credit Card</td>\n",
       "      <td>No</td>\n",
       "    </tr>\n",
       "  </tbody>\n",
       "</table>\n",
       "</div>"
      ],
      "text/plain": [
       "   customer_id  age    gender  monthly_charges  total_charges  tenure  \\\n",
       "0            1   32   Male                65.5          195.5       3   \n",
       "1            2   45   Female              89.9         2465.8      24   \n",
       "2            3   28   Male                75.1          321.7       7   \n",
       "3            4   55   Female              98.2         4316.6      48   \n",
       "4            5   42   Female              79.9         2020.5      18   \n",
       "\n",
       "       contract_type    payment_method churn  \n",
       "0   Month-to-month     Credit Card       Yes  \n",
       "1   Two-year           Bank Transfer      No  \n",
       "2   Month-to-month     Credit Card       Yes  \n",
       "3   Two-year           Bank Transfer      No  \n",
       "4   One year           Credit Card        No  "
      ]
     },
     "execution_count": 44,
     "metadata": {},
     "output_type": "execute_result"
    }
   ],
   "source": [
    "df.head() #display 5 starting rows of the dataset"
   ]
  },
  {
   "cell_type": "code",
   "execution_count": 45,
   "id": "f04ec8be",
   "metadata": {
    "scrolled": true
   },
   "outputs": [
    {
     "data": {
      "text/plain": [
       "False"
      ]
     },
     "execution_count": 45,
     "metadata": {},
     "output_type": "execute_result"
    }
   ],
   "source": [
    "df.duplicated().any() # display duplicate values"
   ]
  },
  {
   "cell_type": "code",
   "execution_count": 46,
   "id": "8b486989",
   "metadata": {},
   "outputs": [
    {
     "data": {
      "text/plain": [
       "0"
      ]
     },
     "execution_count": 46,
     "metadata": {},
     "output_type": "execute_result"
    }
   ],
   "source": [
    "df.duplicated().sum()"
   ]
  },
  {
   "cell_type": "code",
   "execution_count": 47,
   "id": "01f5cfc3",
   "metadata": {},
   "outputs": [
    {
     "data": {
      "text/plain": [
       "array([' Yes', ' No'], dtype=object)"
      ]
     },
     "execution_count": 47,
     "metadata": {},
     "output_type": "execute_result"
    }
   ],
   "source": [
    "df['churn'].unique()"
   ]
  },
  {
   "cell_type": "code",
   "execution_count": 48,
   "id": "347a9737",
   "metadata": {},
   "outputs": [
    {
     "data": {
      "text/plain": [
       " No     11\n",
       " Yes     9\n",
       "Name: churn, dtype: int64"
      ]
     },
     "execution_count": 48,
     "metadata": {},
     "output_type": "execute_result"
    }
   ],
   "source": [
    "df['churn'].value_counts()"
   ]
  },
  {
   "cell_type": "markdown",
   "id": "7506a368",
   "metadata": {},
   "source": [
    "# Univariate Analysis"
   ]
  },
  {
   "cell_type": "markdown",
   "id": "8931021e",
   "metadata": {},
   "source": [
    "### Numerical Features"
   ]
  },
  {
   "cell_type": "code",
   "execution_count": 49,
   "id": "c13bdf5d",
   "metadata": {
    "scrolled": true
   },
   "outputs": [
    {
     "data": {
      "image/png": "[encoded data removed]",
      "text/plain": [
       "<Figure size 360x360 with 1 Axes>"
      ]
     },
     "metadata": {
      "needs_background": "light"
     },
     "output_type": "display_data"
    },
    {
     "data": {
      "image/png": "[encoded data removed]",
      "text/plain": [
       "<Figure size 360x360 with 1 Axes>"
      ]
     },
     "metadata": {
      "needs_background": "light"
     },
     "output_type": "display_data"
    },
    {
     "data": {
      "image/png": "[encoded data removed]",
      "text/plain": [
       "<Figure size 360x360 with 1 Axes>"
      ]
     },
     "metadata": {
      "needs_background": "light"
     },
     "output_type": "display_data"
    },
    {
     "data": {
      "image/png": "[encoded data removed]",
      "text/plain": [
       "<Figure size 360x360 with 1 Axes>"
      ]
     },
     "metadata": {
      "needs_background": "light"
     },
     "output_type": "display_data"
    }
   ],
   "source": [
    "b=['age','monthly_charges','total_charges','tenure']\n",
    "for i in b:\n",
    "    plt.figure(figsize=(5,5))\n",
    "    plt.suptitle('Univariate Analysis of Numerical Features', fontsize=20, fontweight='bold', alpha=0.8, y=1.)\n",
    "    sns.kdeplot(x=df[i],shade=True, color='red')"
   ]
  },
  {
   "cell_type": "markdown",
   "id": "ceb5e081",
   "metadata": {},
   "source": [
    "### Categorical Features"
   ]
  },
  {
   "cell_type": "code",
   "execution_count": 50,
   "id": "12571cad",
   "metadata": {
    "scrolled": true
   },
   "outputs": [
    {
     "data": {
      "image/png": "[encoded data removed]",
      "text/plain": [
       "<Figure size 432x288 with 1 Axes>"
      ]
     },
     "metadata": {
      "needs_background": "light"
     },
     "output_type": "display_data"
    },
    {
     "data": {
      "image/png": "[encoded data removed]",
      "text/plain": [
       "<Figure size 432x288 with 1 Axes>"
      ]
     },
     "metadata": {
      "needs_background": "light"
     },
     "output_type": "display_data"
    },
    {
     "data": {
      "image/png": "[encoded data removed]",
      "text/plain": [
       "<Figure size 432x288 with 1 Axes>"
      ]
     },
     "metadata": {
      "needs_background": "light"
     },
     "output_type": "display_data"
    },
    {
     "data": {
      "image/png": "[encoded data removed]",
      "text/plain": [
       "<Figure size 432x288 with 1 Axes>"
      ]
     },
     "metadata": {
      "needs_background": "light"
     },
     "output_type": "display_data"
    }
   ],
   "source": [
    "categorical=['gender','contract_type','payment_method','churn']\n",
    "for i in categorical:\n",
    "    plt.figure(figsize=(6, 4))  # Adjust the figure size if needed\n",
    "    sns.countplot(x=i, data=df)\n",
    "    plt.title(i)\n",
    "    plt.xlabel(i)\n",
    "    plt.ylabel('Count')\n",
    "    plt.xticks(rotation=45)  # Rotate x-axis labels if needed\n",
    "    plt.show()"
   ]
  },
  {
   "cell_type": "code",
   "execution_count": 51,
   "id": "51c63f18",
   "metadata": {},
   "outputs": [
    {
     "data": {
      "text/plain": [
       "<seaborn.axisgrid.FacetGrid at 0x1bd5f9b9e50>"
      ]
     },
     "execution_count": 51,
     "metadata": {},
     "output_type": "execute_result"
    },
    {
     "data": {
      "image/png": "[encoded data removed]",
      "text/plain": [
       "<Figure size 271.125x216 with 1 Axes>"
      ]
     },
     "metadata": {
      "needs_background": "light"
     },
     "output_type": "display_data"
    }
   ],
   "source": [
    "sns.FacetGrid(df,hue='churn',xlim=(0,500)).map(sns.kdeplot,'monthly_charges',shade=True).add_legend()"
   ]
  },
  {
   "cell_type": "markdown",
   "id": "a64bad82",
   "metadata": {},
   "source": [
    "### Outliers detection"
   ]
  },
  {
   "cell_type": "code",
   "execution_count": 52,
   "id": "6c239f44",
   "metadata": {
    "scrolled": true
   },
   "outputs": [
    {
     "name": "stdout",
     "output_type": "stream",
     "text": [
      "\n",
      "\n"
     ]
    },
    {
     "data": {
      "image/png": "[encoded data removed]",
      "text/plain": [
       "<Figure size 864x432 with 1 Axes>"
      ]
     },
     "metadata": {
      "needs_background": "light"
     },
     "output_type": "display_data"
    },
    {
     "data": {
      "image/png": "[encoded data removed]",
      "text/plain": [
       "<Figure size 864x432 with 1 Axes>"
      ]
     },
     "metadata": {
      "needs_background": "light"
     },
     "output_type": "display_data"
    }
   ],
   "source": [
    "## Outliers Detection \n",
    "def boxplots():\n",
    "    a=['total_charges','tenure']\n",
    "    for i in a:\n",
    "        plt.figure(figsize=(12,6))\n",
    "        sns.boxplot(df[i])\n",
    "        print()\n",
    "boxplots() "
   ]
  },
  {
   "cell_type": "markdown",
   "id": "568ad448",
   "metadata": {},
   "source": [
    "## Bivariate Analysis"
   ]
  },
  {
   "cell_type": "code",
   "execution_count": 53,
   "id": "33dcec73",
   "metadata": {},
   "outputs": [],
   "source": [
    "## Coverting categorical features to numerical\n",
    "object_datatype=df.select_dtypes('object')\n",
    "def encoding():\n",
    "    for i in object_datatype.columns:\n",
    "        label_enco=LabelEncoder()\n",
    "        df[i]=label_enco.fit_transform(df[i])\n",
    "encoding()"
   ]
  },
  {
   "cell_type": "code",
   "execution_count": 54,
   "id": "992b1ced",
   "metadata": {},
   "outputs": [
    {
     "name": "stdout",
     "output_type": "stream",
     "text": [
      "Mean of the dataset: customer_id          10.500\n",
      "age                  40.650\n",
      "gender                0.500\n",
      "monthly_charges      80.995\n",
      "total_charges      2087.665\n",
      "tenure               23.650\n",
      "contract_type         1.000\n",
      "payment_method        0.900\n",
      "churn                 0.450\n",
      "dtype: float64\n"
     ]
    }
   ],
   "source": [
    "print('Mean of the dataset:',  df.mean(numeric_only=True))"
   ]
  },
  {
   "cell_type": "code",
   "execution_count": 55,
   "id": "cb89d57c",
   "metadata": {},
   "outputs": [
    {
     "name": "stdout",
     "output_type": "stream",
     "text": [
      "Median of the dataset: customer_id          10.50\n",
      "age                  40.50\n",
      "gender                0.50\n",
      "monthly_charges      79.50\n",
      "total_charges      1219.65\n",
      "tenure               15.50\n",
      "contract_type         1.00\n",
      "payment_method        1.00\n",
      "churn                 0.00\n",
      "dtype: float64\n"
     ]
    }
   ],
   "source": [
    "print('Median of the dataset:',  df.median(numeric_only=True))"
   ]
  },
  {
   "cell_type": "code",
   "execution_count": 56,
   "id": "d7f859b9",
   "metadata": {
    "scrolled": false
   },
   "outputs": [
    {
     "data": {
      "text/html": [
       "<div>\n",
       "<style scoped>\n",
       "    .dataframe tbody tr th:only-of-type {\n",
       "        vertical-align: middle;\n",
       "    }\n",
       "\n",
       "    .dataframe tbody tr th {\n",
       "        vertical-align: top;\n",
       "    }\n",
       "\n",
       "    .dataframe thead th {\n",
       "        text-align: right;\n",
       "    }\n",
       "</style>\n",
       "<table border=\"1\" class=\"dataframe\">\n",
       "  <thead>\n",
       "    <tr style=\"text-align: right;\">\n",
       "      <th></th>\n",
       "      <th>customer_id</th>\n",
       "      <th>age</th>\n",
       "      <th>gender</th>\n",
       "      <th>monthly_charges</th>\n",
       "      <th>total_charges</th>\n",
       "      <th>tenure</th>\n",
       "      <th>contract_type</th>\n",
       "      <th>payment_method</th>\n",
       "      <th>churn</th>\n",
       "    </tr>\n",
       "  </thead>\n",
       "  <tbody>\n",
       "    <tr>\n",
       "      <th>customer_id</th>\n",
       "      <td>1.000000e+00</td>\n",
       "      <td>-0.006152</td>\n",
       "      <td>-0.069369</td>\n",
       "      <td>0.006185</td>\n",
       "      <td>0.024041</td>\n",
       "      <td>0.077530</td>\n",
       "      <td>1.841007e-17</td>\n",
       "      <td>0.180621</td>\n",
       "      <td>-0.026144</td>\n",
       "    </tr>\n",
       "    <tr>\n",
       "      <th>age</th>\n",
       "      <td>-6.152270e-03</td>\n",
       "      <td>1.000000</td>\n",
       "      <td>0.191023</td>\n",
       "      <td>0.824326</td>\n",
       "      <td>0.868197</td>\n",
       "      <td>0.844200</td>\n",
       "      <td>7.110421e-01</td>\n",
       "      <td>-0.608937</td>\n",
       "      <td>-0.623678</td>\n",
       "    </tr>\n",
       "    <tr>\n",
       "      <th>gender</th>\n",
       "      <td>-6.936880e-02</td>\n",
       "      <td>0.191023</td>\n",
       "      <td>1.000000</td>\n",
       "      <td>-0.065353</td>\n",
       "      <td>0.051062</td>\n",
       "      <td>0.023598</td>\n",
       "      <td>-2.390457e-01</td>\n",
       "      <td>-0.130189</td>\n",
       "      <td>0.301511</td>\n",
       "    </tr>\n",
       "    <tr>\n",
       "      <th>monthly_charges</th>\n",
       "      <td>6.185402e-03</td>\n",
       "      <td>0.824326</td>\n",
       "      <td>-0.065353</td>\n",
       "      <td>1.000000</td>\n",
       "      <td>0.891530</td>\n",
       "      <td>0.889207</td>\n",
       "      <td>8.515777e-01</td>\n",
       "      <td>-0.541695</td>\n",
       "      <td>-0.732856</td>\n",
       "    </tr>\n",
       "    <tr>\n",
       "      <th>total_charges</th>\n",
       "      <td>2.404138e-02</td>\n",
       "      <td>0.868197</td>\n",
       "      <td>0.051062</td>\n",
       "      <td>0.891530</td>\n",
       "      <td>1.000000</td>\n",
       "      <td>0.989094</td>\n",
       "      <td>8.742788e-01</td>\n",
       "      <td>-0.590960</td>\n",
       "      <td>-0.752843</td>\n",
       "    </tr>\n",
       "    <tr>\n",
       "      <th>tenure</th>\n",
       "      <td>7.753007e-02</td>\n",
       "      <td>0.844200</td>\n",
       "      <td>0.023598</td>\n",
       "      <td>0.889207</td>\n",
       "      <td>0.989094</td>\n",
       "      <td>1.000000</td>\n",
       "      <td>8.806411e-01</td>\n",
       "      <td>-0.596360</td>\n",
       "      <td>-0.773977</td>\n",
       "    </tr>\n",
       "    <tr>\n",
       "      <th>contract_type</th>\n",
       "      <td>1.841007e-17</td>\n",
       "      <td>0.711042</td>\n",
       "      <td>-0.239046</td>\n",
       "      <td>0.851578</td>\n",
       "      <td>0.874279</td>\n",
       "      <td>0.880641</td>\n",
       "      <td>1.000000e+00</td>\n",
       "      <td>-0.622422</td>\n",
       "      <td>-0.840875</td>\n",
       "    </tr>\n",
       "    <tr>\n",
       "      <th>payment_method</th>\n",
       "      <td>1.806210e-01</td>\n",
       "      <td>-0.608937</td>\n",
       "      <td>-0.130189</td>\n",
       "      <td>-0.541695</td>\n",
       "      <td>-0.590960</td>\n",
       "      <td>-0.596360</td>\n",
       "      <td>-6.224220e-01</td>\n",
       "      <td>1.000000</td>\n",
       "      <td>0.510295</td>\n",
       "    </tr>\n",
       "    <tr>\n",
       "      <th>churn</th>\n",
       "      <td>-2.614435e-02</td>\n",
       "      <td>-0.623678</td>\n",
       "      <td>0.301511</td>\n",
       "      <td>-0.732856</td>\n",
       "      <td>-0.752843</td>\n",
       "      <td>-0.773977</td>\n",
       "      <td>-8.408750e-01</td>\n",
       "      <td>0.510295</td>\n",
       "      <td>1.000000</td>\n",
       "    </tr>\n",
       "  </tbody>\n",
       "</table>\n",
       "</div>"
      ],
      "text/plain": [
       "                  customer_id       age    gender  monthly_charges  \\\n",
       "customer_id      1.000000e+00 -0.006152 -0.069369         0.006185   \n",
       "age             -6.152270e-03  1.000000  0.191023         0.824326   \n",
       "gender          -6.936880e-02  0.191023  1.000000        -0.065353   \n",
       "monthly_charges  6.185402e-03  0.824326 -0.065353         1.000000   \n",
       "total_charges    2.404138e-02  0.868197  0.051062         0.891530   \n",
       "tenure           7.753007e-02  0.844200  0.023598         0.889207   \n",
       "contract_type    1.841007e-17  0.711042 -0.239046         0.851578   \n",
       "payment_method   1.806210e-01 -0.608937 -0.130189        -0.541695   \n",
       "churn           -2.614435e-02 -0.623678  0.301511        -0.732856   \n",
       "\n",
       "                 total_charges    tenure  contract_type  payment_method  \\\n",
       "customer_id           0.024041  0.077530   1.841007e-17        0.180621   \n",
       "age                   0.868197  0.844200   7.110421e-01       -0.608937   \n",
       "gender                0.051062  0.023598  -2.390457e-01       -0.130189   \n",
       "monthly_charges       0.891530  0.889207   8.515777e-01       -0.541695   \n",
       "total_charges         1.000000  0.989094   8.742788e-01       -0.590960   \n",
       "tenure                0.989094  1.000000   8.806411e-01       -0.596360   \n",
       "contract_type         0.874279  0.880641   1.000000e+00       -0.622422   \n",
       "payment_method       -0.590960 -0.596360  -6.224220e-01        1.000000   \n",
       "churn                -0.752843 -0.773977  -8.408750e-01        0.510295   \n",
       "\n",
       "                    churn  \n",
       "customer_id     -0.026144  \n",
       "age             -0.623678  \n",
       "gender           0.301511  \n",
       "monthly_charges -0.732856  \n",
       "total_charges   -0.752843  \n",
       "tenure          -0.773977  \n",
       "contract_type   -0.840875  \n",
       "payment_method   0.510295  \n",
       "churn            1.000000  "
      ]
     },
     "execution_count": 56,
     "metadata": {},
     "output_type": "execute_result"
    }
   ],
   "source": [
    "df.corr()"
   ]
  },
  {
   "cell_type": "code",
   "execution_count": 57,
   "id": "bd582c19",
   "metadata": {},
   "outputs": [
    {
     "data": {
      "text/plain": [
       "<AxesSubplot:>"
      ]
     },
     "execution_count": 57,
     "metadata": {},
     "output_type": "execute_result"
    },
    {
     "data": {
      "image/png": "[encoded data removed]",
      "text/plain": [
       "<Figure size 432x288 with 2 Axes>"
      ]
     },
     "metadata": {
      "needs_background": "light"
     },
     "output_type": "display_data"
    }
   ],
   "source": [
    "sns.heatmap(df.corr(),annot=True)"
   ]
  },
  {
   "cell_type": "code",
   "execution_count": 58,
   "id": "8fe41f42",
   "metadata": {},
   "outputs": [
    {
     "data": {
      "image/png": "[encoded data removed]",
      "text/plain": [
       "<Figure size 432x288 with 1 Axes>"
      ]
     },
     "metadata": {
      "needs_background": "light"
     },
     "output_type": "display_data"
    },
    {
     "data": {
      "image/png": "[encoded data removed]",
      "text/plain": [
       "<Figure size 432x288 with 1 Axes>"
      ]
     },
     "metadata": {
      "needs_background": "light"
     },
     "output_type": "display_data"
    },
    {
     "data": {
      "image/png": "[encoded data removed]",
      "text/plain": [
       "<Figure size 432x288 with 1 Axes>"
      ]
     },
     "metadata": {
      "needs_background": "light"
     },
     "output_type": "display_data"
    },
    {
     "data": {
      "image/png": "[encoded data removed]",
      "text/plain": [
       "<Figure size 432x288 with 1 Axes>"
      ]
     },
     "metadata": {
      "needs_background": "light"
     },
     "output_type": "display_data"
    },
    {
     "data": {
      "image/png": "[encoded data removed]",
      "text/plain": [
       "<Figure size 432x288 with 1 Axes>"
      ]
     },
     "metadata": {
      "needs_background": "light"
     },
     "output_type": "display_data"
    },
    {
     "data": {
      "image/png": "[encoded data removed]",
      "text/plain": [
       "<Figure size 432x288 with 1 Axes>"
      ]
     },
     "metadata": {
      "needs_background": "light"
     },
     "output_type": "display_data"
    },
    {
     "data": {
      "image/png": "[encoded data removed]",
      "text/plain": [
       "<Figure size 432x288 with 1 Axes>"
      ]
     },
     "metadata": {
      "needs_background": "light"
     },
     "output_type": "display_data"
    }
   ],
   "source": [
    "#to show a pattarn between target variable and other features.\n",
    "# We plot scatter plots for each independent variable against the target variable\n",
    "target_variable = 'churn'\n",
    "independent_variables = ['payment_method', 'contract_type', 'tenure', 'total_charges','monthly_charges', 'gender', 'age']\n",
    "for var in independent_variables:\n",
    "    plt.figure(figsize=(6, 4))\n",
    "    plt.scatter(df[var], df[target_variable])\n",
    "    plt.xlabel(var)\n",
    "    plt.ylabel(target_variable)\n",
    "    plt.title(f'Scatter Plot: {var} vs {target_variable}')\n",
    "    plt.show()"
   ]
  },
  {
   "cell_type": "code",
   "execution_count": 59,
   "id": "ceba556a",
   "metadata": {},
   "outputs": [
    {
     "name": "stdout",
     "output_type": "stream",
     "text": [
      "Features with correlations greater than 0.7 or less than -0.7 with respect to 'churn':\n",
      "['monthly_charges', 'total_charges', 'tenure', 'contract_type', 'churn']\n"
     ]
    }
   ],
   "source": [
    "# correlation matrix\n",
    "correlation_matrix = df.corr()\n",
    "\n",
    "# correlations with respect to 'churn' column\n",
    "target_correlations = correlation_matrix['churn']\n",
    "\n",
    "# Find features with correlations greater than 0.7 or less than -0.7\n",
    "high_correlation_features = target_correlations[(target_correlations > 0.7) | (target_correlations < -0.7)].index.tolist()\n",
    "\n",
    "print(\"Features with correlations greater than 0.7 or less than -0.7 with respect to 'churn':\")\n",
    "print(high_correlation_features)\n"
   ]
  },
  {
   "cell_type": "code",
   "execution_count": 60,
   "id": "0f23f4be",
   "metadata": {},
   "outputs": [
    {
     "name": "stdout",
     "output_type": "stream",
     "text": [
      "Features with correlations greater than 0.7 or less than -0.7 with respect to 'churn':\n",
      "monthly_charges: -0.732855978370114\n",
      "total_charges: -0.7528433903095545\n",
      "tenure: -0.7739768902270425\n",
      "contract_type: -0.8408749651825218\n",
      "churn: 1.0\n"
     ]
    }
   ],
   "source": [
    "# correlation matrix\n",
    "correlation_matrix = df.corr()\n",
    "\n",
    "# correlations with respect to 'churn' column\n",
    "target_correlations = correlation_matrix['churn']\n",
    "\n",
    "# features with correlations greater than 0.7 or less than -0.7\n",
    "high_correlation_features = target_correlations[(target_correlations > 0.7) | (target_correlations < -0.7)]\n",
    "\n",
    "print(\"Features with correlations greater than 0.7 or less than -0.7 with respect to 'churn':\")\n",
    "for feature, correlation in high_correlation_features.items():\n",
    "    print(f\"{feature}: {correlation}\")\n"
   ]
  },
  {
   "cell_type": "markdown",
   "id": "da0c67a6",
   "metadata": {},
   "source": [
    "## Report based of exploratory data analysis"
   ]
  },
  {
   "cell_type": "raw",
   "id": "f12b9ec2",
   "metadata": {},
   "source": [
    "-> The datatypes and Column names were right and there was 20  rows and 9 columns \n",
    "-> The output column contains categorical values so this particular problem belongs to Classification.\n",
    "-> No missing values present in the dataset.\n",
    "-> No duplicates rows are present in the dataset.\n",
    "-> Gender, Contract_type,Payment_method,churn these featues are categorical .\n",
    "-> Monthly_charges has a correlation of approximately -0.733 with 'churn'. \n",
    "   suggests that as the monthly charges increase, there is a tendency for customers to be less likely to churn.\n",
    "\n",
    "-> Total_charges has a correlation of approximately -0.753 with 'churn'.\n",
    "   which implies that as the total charges incurred by customers increase, the likelihood of churn decreases.\n",
    "\n",
    "-> Tenure has a correlation of approximately -0.774 with 'churn'. \n",
    "   which indicates that customers with longer tenure (i.e longer duration of service) are less likely to churn.\n",
    "\n",
    "-> Contract_type has the strongest correlation with 'churn' at approximately -0.841. \n",
    "   suggests that customers who have an annual contract type are significantly less likely to churn compared \n",
    "    to those with a monthly contract type."
   ]
  },
  {
   "cell_type": "markdown",
   "id": "58f0592e",
   "metadata": {},
   "source": [
    "## Hold out validation"
   ]
  },
  {
   "cell_type": "code",
   "execution_count": 61,
   "id": "a9278f0b",
   "metadata": {},
   "outputs": [],
   "source": [
    "x= df.drop('churn',axis=1)\n",
    "y= df.churn"
   ]
  },
  {
   "cell_type": "code",
   "execution_count": 62,
   "id": "d3703106",
   "metadata": {},
   "outputs": [],
   "source": [
    "x_train,x_test,y_train,y_test=train_test_split(x,y,test_size=0.3,random_state=3)"
   ]
  },
  {
   "cell_type": "markdown",
   "id": "42d9c808",
   "metadata": {},
   "source": [
    "## Logistic regression\n"
   ]
  },
  {
   "cell_type": "code",
   "execution_count": 63,
   "id": "4e63a00b",
   "metadata": {},
   "outputs": [
    {
     "name": "stdout",
     "output_type": "stream",
     "text": [
      "1.0\n",
      "[[4 0]\n",
      " [0 2]]\n",
      "              precision    recall  f1-score   support\n",
      "\n",
      "           0       1.00      1.00      1.00         4\n",
      "           1       1.00      1.00      1.00         2\n",
      "\n",
      "    accuracy                           1.00         6\n",
      "   macro avg       1.00      1.00      1.00         6\n",
      "weighted avg       1.00      1.00      1.00         6\n",
      "\n",
      "Accuracy score for testing 100.0\n",
      "Accuracy score for training 100.0\n"
     ]
    }
   ],
   "source": [
    "def log_evaluation():\n",
    "    log_reg = LogisticRegression()\n",
    "    log_reg.fit(x_train,y_train)\n",
    "    y_pred = log_reg.predict(x_test)\n",
    "    y_pred_train=log_reg.predict(x_train)\n",
    "    accuracy=accuracy_score(y_test,y_pred)\n",
    "    print(accuracy)\n",
    "    cnf_matrix = confusion_matrix(y_test,y_pred)\n",
    "    print(cnf_matrix)\n",
    "    print(classification_report(y_test,y_pred))\n",
    "    print('Accuracy score for testing',(accuracy_score(y_test,y_pred))*100)\n",
    "    print('Accuracy score for training',(accuracy_score(y_train,y_pred_train))*100)\n",
    "log_evaluation() "
   ]
  },
  {
   "cell_type": "markdown",
   "id": "ab6aea59",
   "metadata": {},
   "source": [
    "## KNN Classifier"
   ]
  },
  {
   "cell_type": "code",
   "execution_count": 64,
   "id": "18ed45d3",
   "metadata": {},
   "outputs": [
    {
     "name": "stdout",
     "output_type": "stream",
     "text": [
      "              precision    recall  f1-score   support\n",
      "\n",
      "           0       1.00      0.50      0.67         4\n",
      "           1       0.50      1.00      0.67         2\n",
      "\n",
      "    accuracy                           0.67         6\n",
      "   macro avg       0.75      0.75      0.67         6\n",
      "weighted avg       0.83      0.67      0.67         6\n",
      "\n"
     ]
    }
   ],
   "source": [
    "def knn_evaluation():\n",
    "    knn_model=KNeighborsClassifier(n_neighbors=12,p=2)\n",
    "    knn_model.fit(x_train,y_train)\n",
    "    y_pred=knn_model.predict(x_test)\n",
    "    cnf_matrix = confusion_matrix(y_test,y_pred)\n",
    "    cnf_matrix\n",
    "    print(classification_report(y_test,y_pred))\n",
    "knn_evaluation() "
   ]
  },
  {
   "cell_type": "markdown",
   "id": "f01a3b31",
   "metadata": {},
   "source": [
    "### parameter tunning"
   ]
  },
  {
   "cell_type": "code",
   "execution_count": 65,
   "id": "6a6a0d85",
   "metadata": {},
   "outputs": [
    {
     "name": "stdout",
     "output_type": "stream",
     "text": [
      "Hyperparameter value using Grid Search cv {'n_neighbors': 2, 'p': 2}\n",
      "Accuracy score after using Grid search cv [1.0]\n",
      "              precision    recall  f1-score   support\n",
      "\n",
      "           0       1.00      1.00      1.00         4\n",
      "           1       1.00      1.00      1.00         2\n",
      "\n",
      "    accuracy                           1.00         6\n",
      "   macro avg       1.00      1.00      1.00         6\n",
      "weighted avg       1.00      1.00      1.00         6\n",
      "\n"
     ]
    }
   ],
   "source": [
    "## Grid search cv\n",
    "\n",
    "def knn_grid():\n",
    "    hyperparamters = {'n_neighbors':np.arange(2,20),\n",
    "                         'p':[1,2]}\n",
    "    gscv_model= GridSearchCV(KNeighborsClassifier(),hyperparamters,cv=5)\n",
    "    gscv_model.fit(x_train,y_train)\n",
    "    gscv_model.best_estimator_\n",
    "    para=gscv_model.best_params_\n",
    "    print('Hyperparameter value using Grid Search cv',para)\n",
    "    n=[]\n",
    "    for i,j in para.items():\n",
    "        n.append(j)\n",
    "    knn_model=KNeighborsClassifier(n_neighbors=n[0],p=n[1])\n",
    "    knn_model.fit(x_train,y_train)\n",
    "    y_pred1=knn_model.predict(x_test)\n",
    "    print('Accuracy score after using Grid search cv',[accuracy_score(y_test,y_pred1)])\n",
    "    print(classification_report(y_test,y_pred1))\n",
    "\n",
    "knn_grid()   "
   ]
  },
  {
   "cell_type": "code",
   "execution_count": 66,
   "id": "5b409e12",
   "metadata": {},
   "outputs": [
    {
     "name": "stdout",
     "output_type": "stream",
     "text": [
      "Hyperparameter value using Randomized Search cv {'p': 2, 'n_neighbors': 9}\n",
      "Accuracy score after using Randomized search cv 0.8333333333333334\n",
      "              precision    recall  f1-score   support\n",
      "\n",
      "           0       1.00      0.75      0.86         4\n",
      "           1       0.67      1.00      0.80         2\n",
      "\n",
      "    accuracy                           0.83         6\n",
      "   macro avg       0.83      0.88      0.83         6\n",
      "weighted avg       0.89      0.83      0.84         6\n",
      "\n"
     ]
    }
   ],
   "source": [
    "### Randomised search cv\n",
    "\n",
    "def knn_rscv():\n",
    "    hyperparamters = {'n_neighbors':np.arange(5,25),\n",
    "                         'p':[1,2]}\n",
    "    rscv_model=RandomizedSearchCV(KNeighborsClassifier(),hyperparamters,cv=5)\n",
    "    rscv_model.fit(x_train,y_train)\n",
    "    rscv_model.best_estimator_\n",
    "    para=rscv_model.best_params_\n",
    "    print('Hyperparameter value using Randomized Search cv',para)\n",
    "    n=[]\n",
    "    for i,j in para.items():\n",
    "        n.append(j)\n",
    "    knn_model=KNeighborsClassifier(n_neighbors=n[1],p=n[0])\n",
    "    knn_model.fit(x_train,y_train)\n",
    "    y_pred1=knn_model.predict(x_test)\n",
    "    print('Accuracy score after using Randomized search cv',accuracy_score(y_test,y_pred1))\n",
    "    print(classification_report(y_test,y_pred1))\n",
    "\n",
    "knn_rscv()"
   ]
  },
  {
   "cell_type": "markdown",
   "id": "24919789",
   "metadata": {},
   "source": [
    "## Decision Tree "
   ]
  },
  {
   "cell_type": "code",
   "execution_count": 67,
   "id": "267407e6",
   "metadata": {},
   "outputs": [
    {
     "name": "stdout",
     "output_type": "stream",
     "text": [
      "Accuracy score for testing 100.0\n",
      "Accuracy score for training 100.0\n"
     ]
    }
   ],
   "source": [
    "def decision_tree():\n",
    "    x_train,x_test,y_train,y_test=train_test_split(x,y,test_size=0.3,random_state=3)\n",
    "    Decision_model=DecisionTreeClassifier()\n",
    "    Decision_model.fit(x_train,y_train)\n",
    "    #testing prediction of y\n",
    "    y_pred=Decision_model.predict(x_test)\n",
    "    #training prediction of y\n",
    "    y_pred_train=Decision_model.predict(x_train)\n",
    "    print('Accuracy score for testing',(accuracy_score(y_test,y_pred))*100)\n",
    "    print('Accuracy score for training',(accuracy_score(y_train,y_pred_train))*100)\n",
    "decision_tree()"
   ]
  },
  {
   "cell_type": "markdown",
   "id": "466492b2",
   "metadata": {},
   "source": [
    "### Parameter tunning"
   ]
  },
  {
   "cell_type": "code",
   "execution_count": 68,
   "id": "23d868e7",
   "metadata": {},
   "outputs": [
    {
     "name": "stdout",
     "output_type": "stream",
     "text": [
      "Hyperparameter value using Grid Search cv {'criterion': 'entropy', 'max_depth': 4, 'min_samples_leaf': 2, 'min_samples_split': 2}\n",
      "Accuracy score for testing [1.0]\n",
      "Accuracy score for training [0.9285714285714286]\n"
     ]
    }
   ],
   "source": [
    "def decision_grid():\n",
    "    hyperparameters = {'criterion':[\"entropy\",'Gini'],\n",
    "                    'max_depth':np.arange(4,25),\n",
    "                  'min_samples_leaf':np.arange(2,4),\n",
    "                  'min_samples_split':np.arange(2,4)}\n",
    "    gscv_dt_model=GridSearchCV(DecisionTreeClassifier(),hyperparameters,cv=3)\n",
    "    gscv_dt_model.fit(x_train,y_train)\n",
    "    gscv_dt_model.best_params_\n",
    "    para=gscv_dt_model.best_params_\n",
    "    print('Hyperparameter value using Grid Search cv',para)\n",
    "    y_pred_gscv=gscv_dt_model.predict(x_test)\n",
    "    print('Accuracy score for testing',[ accuracy_score(y_test,y_pred_gscv)])\n",
    "    y_pred_train_gscv=gscv_dt_model.predict(x_train)\n",
    "    print('Accuracy score for training',[accuracy_score(y_train,y_pred_train_gscv)])\n",
    "decision_grid()   "
   ]
  },
  {
   "cell_type": "code",
   "execution_count": 69,
   "id": "16f75123",
   "metadata": {},
   "outputs": [
    {
     "name": "stdout",
     "output_type": "stream",
     "text": [
      "Hyperparameter value using Randomised Search cv {'min_samples_split': 8, 'min_samples_leaf': 2, 'max_depth': 90, 'criterion': 'entropy'}\n",
      "Accuracy score for testing [1.0]\n",
      "Accuracy score for training [0.9285714285714286]\n"
     ]
    }
   ],
   "source": [
    "def decision_rscv():\n",
    "    hyperparameters = {'criterion':[\"entropy\",'Gini'],\n",
    "                    'max_depth':np.arange(4,100),\n",
    "                  'min_samples_leaf':np.arange(2,20),\n",
    "                  'min_samples_split':np.arange(2,10)}\n",
    "    rscv_dt_model=RandomizedSearchCV(DecisionTreeClassifier(),hyperparameters,cv=5)\n",
    "    rscv_dt_model.fit(x_train,y_train)\n",
    "    rscv_dt_model.best_params_\n",
    "    para=rscv_dt_model.best_params_\n",
    "    print('Hyperparameter value using Randomised Search cv',para)\n",
    "    y_pred_rscv=rscv_dt_model.predict(x_test)\n",
    "    print('Accuracy score for testing',[ accuracy_score(y_test,y_pred_rscv)])\n",
    "    y_pred_train_rscv=rscv_dt_model.predict(x_train)\n",
    "    print('Accuracy score for training',[accuracy_score(y_train,y_pred_train_rscv)])\n",
    "\n",
    "decision_rscv()   "
   ]
  },
  {
   "cell_type": "markdown",
   "id": "8ef3b393",
   "metadata": {},
   "source": [
    "## Final model building on entire data"
   ]
  },
  {
   "cell_type": "code",
   "execution_count": 70,
   "id": "4d6510a2",
   "metadata": {},
   "outputs": [
    {
     "name": "stdout",
     "output_type": "stream",
     "text": [
      "1.0\n",
      "[[11  0]\n",
      " [ 0  9]]\n",
      "              precision    recall  f1-score   support\n",
      "\n",
      "           0       1.00      1.00      1.00        11\n",
      "           1       1.00      1.00      1.00         9\n",
      "\n",
      "    accuracy                           1.00        20\n",
      "   macro avg       1.00      1.00      1.00        20\n",
      "weighted avg       1.00      1.00      1.00        20\n",
      "\n"
     ]
    }
   ],
   "source": [
    "def Final():\n",
    "    lr_final = LogisticRegression()\n",
    "    lr_final.fit(x,y)\n",
    "    y_pred = lr_final.predict(x)\n",
    "    accuracy=accuracy_score(y,y_pred)\n",
    "    print(accuracy)\n",
    "    cnf_matrix = confusion_matrix(y,y_pred)\n",
    "    print(cnf_matrix)\n",
    "    print(classification_report(y,y_pred))\n",
    "Final()"
   ]
  },
  {
   "cell_type": "markdown",
   "id": "08aa6e4e",
   "metadata": {},
   "source": [
    "## Final report"
   ]
  },
  {
   "cell_type": "markdown",
   "id": "fb3db875",
   "metadata": {},
   "source": [
    "The final model's build on logistic regression because its impeccable accuracy, precision, recall, and F1-score on the given dataset showcase its exceptional performance. It successfully classified all instances, providing reliable predictions and demonstrating its effectiveness in accurately distinguishing between the two classes."
   ]
  }
 ],
 "metadata": {
  "kernelspec": {
   "display_name": "Python 3 (ipykernel)",
   "language": "python",
   "name": "python3"
  },
  "language_info": {
   "codemirror_mode": {
    "name": "ipython",
    "version": 3
   },
   "file_extension": ".py",
   "mimetype": "text/x-python",
   "name": "python",
   "nbconvert_exporter": "python",
   "pygments_lexer": "ipython3",
   "version": "3.9.12"
  }
 },
 "nbformat": 4,
 "nbformat_minor": 5
}
